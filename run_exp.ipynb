{
 "cells": [
  {
   "cell_type": "code",
   "execution_count": null,
   "id": "5b42e2c0",
   "metadata": {},
   "outputs": [],
   "source": [
    "from exp_main import run_exp"
   ]
  },
  {
   "cell_type": "code",
   "execution_count": null,
   "id": "c809fe6f",
   "metadata": {},
   "outputs": [],
   "source": [
    "exp_list = ['matrix_fac1']\n",
    "\n",
    "for exp_name in exp_list:\n",
    "    run_exp(exp_name, start=None, stop=None)\n"
   ]
  },
  {
   "cell_type": "code",
   "execution_count": null,
   "id": "8838c71d",
   "metadata": {},
   "outputs": [],
   "source": [
    "\"\"\"for converting json output to pkl\"\"\"\n",
    "#from src import utils as ut\n",
    "#exp_names = ['matrix_fac1', 'matrix_fac1v2', 'matrix_fac2', 'matrix_fac2v2', 'cifar10-resnet56', 'cifar10-resnet110', 'sensor1']\n",
    "\n",
    "\n",
    "#for e in exp_names:\n",
    "#    res = ut.load_json('results/' + e)\n",
    "#    ut.save_pkl('results/pkl/'+e, res)"
   ]
  }
 ],
 "metadata": {
  "kernelspec": {
   "display_name": "Python 3 (ipykernel)",
   "language": "python",
   "name": "python3"
  },
  "language_info": {
   "codemirror_mode": {
    "name": "ipython",
    "version": 3
   },
   "file_extension": ".py",
   "mimetype": "text/x-python",
   "name": "python",
   "nbconvert_exporter": "python",
   "pygments_lexer": "ipython3",
   "version": "3.9.7"
  }
 },
 "nbformat": 4,
 "nbformat_minor": 5
}
