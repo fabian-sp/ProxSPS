{
 "cells": [
  {
   "cell_type": "code",
   "execution_count": null,
   "id": "5b42e2c0",
   "metadata": {},
   "outputs": [],
   "source": [
    "from exp_main import run_exp"
   ]
  },
  {
   "cell_type": "code",
   "execution_count": null,
   "id": "c809fe6f",
   "metadata": {},
   "outputs": [],
   "source": [
    "exp_list = ['cifar10-resnet110']\n",
    "\n",
    "for exp_name in exp_list:\n",
    "    run_exp(exp_name, start=None, stop=None)"
   ]
  }
 ],
 "metadata": {
  "kernelspec": {
   "display_name": "Python 3 (ipykernel)",
   "language": "python",
   "name": "python3"
  },
  "language_info": {
   "codemirror_mode": {
    "name": "ipython",
    "version": 3
   },
   "file_extension": ".py",
   "mimetype": "text/x-python",
   "name": "python",
   "nbconvert_exporter": "python",
   "pygments_lexer": "ipython3",
   "version": "3.9.7"
  }
 },
 "nbformat": 4,
 "nbformat_minor": 5
}
